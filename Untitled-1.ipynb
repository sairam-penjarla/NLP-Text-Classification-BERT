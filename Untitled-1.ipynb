{
 "cells": [
  {
   "cell_type": "code",
   "execution_count": null,
   "metadata": {},
   "outputs": [],
   "source": [
    "! pip install pandas --quiet\n",
    "! pip install torch --quiet\n",
    "! pip install scikit-learn --quiet\n",
    "! pip install simpletransformers --quiet"
   ]
  },
  {
   "cell_type": "code",
   "execution_count": null,
   "metadata": {},
   "outputs": [],
   "source": [
    "import pandas as pd\n",
    " \n",
    "class_list = ['INSULT','ABUSE','PROFANITY','OTHER', 'EXPLICIT', 'IMPLICIT']\n",
    " \n",
    "df1 = pd.read_csv('Shared-Task-2019_Data_germeval2019.training_subtask1_2.txt',sep='\\t', lineterminator='\\n',encoding='utf8',names=[\"tweet\", \"task1\", \"task2\"])\n",
    "df2 = pd.read_csv('Shared-Task-2019_Data_germeval2019.training_subtask3.txt',sep='\\t', lineterminator='\\n',encoding='utf8',names=[\"tweet\", \"task1\", \"task2\"])\n",
    " \n",
    "df = pd.concat([df1,df2])\n",
    "df['task2'] = df['task2'].str.replace('\\r', \"\")\n",
    "df['pred_class'] = df.apply(lambda x:  class_list.index(x['task2']),axis=1)\n",
    " \n",
    "df = df[['tweet','pred_class']]\n",
    " \n",
    "print(df.shape)\n",
    "df.head()"
   ]
  },
  {
   "cell_type": "code",
   "execution_count": null,
   "metadata": {},
   "outputs": [],
   "source": [
    "from sklearn.model_selection import train_test_split\n",
    " \n",
    "train_df, test_df = train_test_split(df, test_size=0.10)\n",
    " \n",
    "print('train shape: ',train_df.shape)\n",
    "print('test shape: ',test_df.shape)"
   ]
  },
  {
   "cell_type": "code",
   "execution_count": null,
   "metadata": {},
   "outputs": [],
   "source": [
    "import torch"
   ]
  },
  {
   "cell_type": "code",
   "execution_count": null,
   "metadata": {},
   "outputs": [],
   "source": [
    "from simpletransformers.classification import ClassificationModel\n",
    " \n",
    "# define hyperparameter\n",
    "train_args ={\"reprocess_input_data\": True,\n",
    "             \"fp16\":False,\n",
    "             \"num_train_epochs\": 4}\n",
    " \n",
    "# Create a ClassificationModel\n",
    "model = ClassificationModel(\n",
    "    \"bert\", \"distilbert-base-german-cased\",\n",
    "    num_labels=len(train_df['pred_class'].unique()),\n",
    "    args=train_args,\n",
    "    use_cuda=torch.cuda.is_available()\n",
    ")"
   ]
  },
  {
   "cell_type": "code",
   "execution_count": null,
   "metadata": {},
   "outputs": [],
   "source": [
    "model.train_model(train_df)"
   ]
  },
  {
   "cell_type": "code",
   "execution_count": null,
   "metadata": {},
   "outputs": [],
   "source": [
    "from sklearn.metrics import f1_score, accuracy_score\n",
    " \n",
    "def f1_multiclass(labels, preds):\n",
    "    return f1_score(labels, preds, average='micro')\n",
    " \n",
    "result, model_outputs, wrong_predictions = model.eval_model(test_df, f1=f1_multiclass, acc=accuracy_score)"
   ]
  },
  {
   "cell_type": "code",
   "execution_count": null,
   "metadata": {},
   "outputs": [],
   "source": [
    "import os\n",
    "import tarfile\n",
    " \n",
    "def pack_model():\n",
    "  model.model.save_pretrained('best_model')\n",
    "  model.tokenizer.save_pretrained('best_model')\n",
    "  model.config.save_pretrained('best_model/')\n",
    " \n",
    "# run the function\n",
    "pack_model()"
   ]
  },
  {
   "cell_type": "code",
   "execution_count": null,
   "metadata": {},
   "outputs": [],
   "source": [
    "from simpletransformers.classification import ClassificationModel\n",
    " \n",
    "def unpack_model():\n",
    "  train_args ={\"reprocess_input_data\": True,\n",
    "             \"fp16\":False,\n",
    "             \"num_train_epochs\": 4}\n",
    " \n",
    "  model = ClassificationModel(\n",
    "      \"bert\", 'best_model/',\n",
    "      num_labels=6,\n",
    "      args=train_args\n",
    "  )\n",
    "  return model\n",
    "pretrained_model = unpack_model()"
   ]
  },
  {
   "cell_type": "code",
   "execution_count": null,
   "metadata": {},
   "outputs": [],
   "source": [
    "class_list = ['INSULT','ABUSE','PROFANITY','OTHER']\n",
    " \n",
    "test_tweet1 = \"Meine Mutter hat mir erzählt, dass mein Vater einen Wahlkreiskandidaten nicht gewählt hat, weil der gegen die Homo-Ehe ist\"\n",
    " \n",
    "predictions, raw_outputs = pretrained_model.predict([test_tweet1])\n",
    " \n",
    "print(class_list[predictions[0]])\n",
    "# OTHER\n",
    "test_tweet2 = \"Frau #Böttinger meine Meinung dazu ist sie sollten uns mit ihrem Pferdegebiss nicht weiter belästigen #WDR\"\n",
    " \n",
    "predictions, raw_outputs = pretrained_model.predict([test_tweet2])\n",
    " \n",
    "print(class_list[predictions[0]])\n",
    "# ABUSE"
   ]
  }
 ],
 "metadata": {
  "kernelspec": {
   "display_name": "base",
   "language": "python",
   "name": "python3"
  },
  "language_info": {
   "codemirror_mode": {
    "name": "ipython",
    "version": 3
   },
   "file_extension": ".py",
   "mimetype": "text/x-python",
   "name": "python",
   "nbconvert_exporter": "python",
   "pygments_lexer": "ipython3",
   "version": "3.8.19"
  }
 },
 "nbformat": 4,
 "nbformat_minor": 2
}
